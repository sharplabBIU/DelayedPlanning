{
 "cells": [
  {
   "cell_type": "code",
   "execution_count": 1,
   "id": "0426c98e-2585-4ea7-a661-91e9ca0ce42e",
   "metadata": {},
   "outputs": [
    {
     "name": "stdout",
     "output_type": "stream",
     "text": [
      "Defaulting to user installation because normal site-packages is not writeable\n",
      "Collecting opencv-python\n",
      "  Downloading opencv_python-4.9.0.80-cp37-abi3-macosx_11_0_arm64.whl.metadata (20 kB)\n",
      "Requirement already satisfied: numpy>=1.21.0 in /Users/pbs44/Library/Python/3.9/lib/python/site-packages (from opencv-python) (1.22.1)\n",
      "Downloading opencv_python-4.9.0.80-cp37-abi3-macosx_11_0_arm64.whl (35.4 MB)\n",
      "\u001b[2K   \u001b[38;2;114;156;31m━━━━━━━━━━━━━━━━━━━━━━━━━━━━━━━━━━━━━━━━\u001b[0m \u001b[32m35.4/35.4 MB\u001b[0m \u001b[31m44.1 MB/s\u001b[0m eta \u001b[36m0:00:00\u001b[0mm eta \u001b[36m0:00:01\u001b[0m[36m0:00:01\u001b[0m\n",
      "\u001b[?25hInstalling collected packages: opencv-python\n",
      "Successfully installed opencv-python-4.9.0.80\n",
      "Note: you may need to restart the kernel to use updated packages.\n"
     ]
    }
   ],
   "source": [
    "pip install opencv-python\n"
   ]
  },
  {
   "cell_type": "code",
   "execution_count": 1,
   "id": "3e415c62-bcd4-43c5-8c65-c787cc04d034",
   "metadata": {},
   "outputs": [],
   "source": [
    "maze = [\n",
    "    [1, 1, 1, 1, 1, 1, 1],\n",
    "    [1, 0, 0, 0, 1, 0, 1],\n",
    "    [1, 0, 1, 0, 0, 0, 1],\n",
    "    [1, 0, 1, 1, 1, 1, 1],\n",
    "    [1, 0, 1, 0, 0, 0, 1],\n",
    "    [1, 0, 0, 0, 1, 0, 1],\n",
    "    [1, 1, 1, 1, 1, 1, 1]\n",
    "]\n",
    "\n",
    "path = [(5, 1), (5, 2), (4, 2), (3, 2), (2, 2), (2, 3), (2, 4), (3, 4), (4, 4), (5, 4), (5, 5)]\n",
    "path.reverse()  # Reverse the path to simulate solving from goal to start\n",
    "\n",
    "import cv2\n",
    "import numpy as np\n",
    "\n",
    "# Function to draw the maze\n",
    "def draw_maze(maze, path, step):\n",
    "    img = np.zeros((len(maze) * 50, len(maze[0]) * 50, 3), dtype=np.uint8)\n",
    "    for y in range(len(maze)):\n",
    "        for x in range(len(maze[0])):\n",
    "            if maze[y][x] == 1:\n",
    "                cv2.rectangle(img, (x*50, y*50), ((x+1)*50, (y+1)*50), (255, 255, 255), -1)\n",
    "    for i in range(min(step, len(path))):\n",
    "        y, x = path[i]\n",
    "        cv2.circle(img, (x*50+25, y*50+25), 20, (0, 255, 0), -1)\n",
    "    return img\n",
    "\n",
    "# Initialize video writer\n",
    "fourcc = cv2.VideoWriter_fourcc(*'mp4v')\n",
    "video = cv2.VideoWriter('maze_solution.mp4', fourcc, 5, (350, 350))\n",
    "\n",
    "# Generate video frames\n",
    "for step in range(len(path) + 1):\n",
    "    frame = draw_maze(maze, path, step)\n",
    "    video.write(frame)\n",
    "\n",
    "video.release()\n"
   ]
  },
  {
   "cell_type": "code",
   "execution_count": 3,
   "id": "8601ad9a-753a-4bf1-a11d-670b7874d755",
   "metadata": {},
   "outputs": [
    {
     "name": "stdout",
     "output_type": "stream",
     "text": [
      "Video saved to 'maze_solution_complex.mp4'\n"
     ]
    }
   ],
   "source": [
    "import cv2\n",
    "import numpy as np\n",
    "\n",
    "maze = [\n",
    "    # 0 = open path, 1 = wall\n",
    "    [1, 1, 1, 1, 1, 1, 1, 1, 1, 1, 1, 1, 1, 1, 1],\n",
    "    [1, 0, 0, 0, 1, 0, 0, 0, 0, 0, 0, 0, 0, 0, 1],\n",
    "    [1, 0, 1, 0, 1, 0, 1, 1, 1, 1, 1, 1, 0, 0, 1],\n",
    "    [1, 0, 1, 0, 0, 0, 1, 0, 0, 0, 0, 1, 0, 1, 1],\n",
    "    [1, 0, 1, 1, 1, 1, 1, 0, 1, 1, 1, 1, 0, 1, 1],\n",
    "    [1, 0, 0, 0, 0, 0, 0, 0, 0, 0, 0, 0, 0, 0, 1],\n",
    "    [1, 1, 1, 1, 1, 1, 1, 1, 1, 1, 1, 1, 1, 1, 1]\n",
    "]\n",
    "\n",
    "# A* Pathfinding goes here (for brevity, we'll use a hardcoded path)\n",
    "path = [(5, 1), (4, 1), (3, 1), (2, 1), (2, 2), (2, 3), (3, 3), (4, 3), (5, 3), (5, 4), (5, 5)]\n",
    "\n",
    "# Start and End Points (we'll assume the path is from bottom left to top right)\n",
    "start_point = path[0]\n",
    "end_point = path[-1]\n",
    "path.reverse()  # Reverse for visualization from end to start\n",
    "\n",
    "def draw_maze(maze, path, step):\n",
    "    img = np.zeros((len(maze)*50, len(maze[0])*50, 3), dtype=np.uint8) + 255  # White background\n",
    "\n",
    "    # Draw walls\n",
    "    for y in range(len(maze)):\n",
    "        for x in range(len(maze[0])):\n",
    "            if maze[y][x] == 1:\n",
    "                cv2.rectangle(img, (x*50, y*50), ((x+1)*50, (y+1)*50), (0, 0, 0), -1)  # Black walls\n",
    "\n",
    "    # Draw path\n",
    "    for i in range(min(step, len(path))):\n",
    "        y, x = path[i]\n",
    "        cv2.circle(img, (x*50+25, y*50+25), 20, (0, 255, 0), -1)  # Green path\n",
    "\n",
    "    # Mark start and end\n",
    "    end_x, end_y = start_point  # Start is the original end\n",
    "    start_x, start_y = end_point  # End is the original start\n",
    "    cv2.circle(img, (start_x*50+25, start_y*50+25), 10, (0, 0, 255), -1)  # Red start\n",
    "    cv2.circle(img, (end_x*50+25, end_y*50+25), 10, (255, 0, 0), -1)  # Blue end\n",
    "\n",
    "    return img\n",
    "\n",
    "# Video creation\n",
    "fourcc = cv2.VideoWriter_fourcc(*'mp4v')\n",
    "video = cv2.VideoWriter('maze_solution_complex.mp4', fourcc, 10, (750, 350))\n",
    "\n",
    "for step in range(len(path) + 1):\n",
    "    frame = draw_maze(maze, path, step)\n",
    "    video.write(frame)\n",
    "\n",
    "video.release()\n",
    "print(\"Video saved to 'maze_solution_complex.mp4'\")\n"
   ]
  },
  {
   "cell_type": "code",
   "execution_count": null,
   "id": "a8714b6d-ca6d-487a-a2dd-1c5b984776e6",
   "metadata": {},
   "outputs": [],
   "source": []
  }
 ],
 "metadata": {
  "kernelspec": {
   "display_name": "Python 3 (ipykernel)",
   "language": "python",
   "name": "python3"
  },
  "language_info": {
   "codemirror_mode": {
    "name": "ipython",
    "version": 3
   },
   "file_extension": ".py",
   "mimetype": "text/x-python",
   "name": "python",
   "nbconvert_exporter": "python",
   "pygments_lexer": "ipython3",
   "version": "3.9.6"
  }
 },
 "nbformat": 4,
 "nbformat_minor": 5
}
